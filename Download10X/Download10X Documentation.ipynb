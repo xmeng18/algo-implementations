{
 "cells": [
  {
   "cell_type": "code",
   "execution_count": 1,
   "metadata": {},
   "outputs": [],
   "source": [
    "#Please change the following path to the location of Download10X.py in your computer\n",
    "import sys\n",
    "sys.path.append('/Users/mengxiangyu/Downloads/Summer Deep Learning:Udemy ML/Download10X')\n"
   ]
  },
  {
   "cell_type": "code",
   "execution_count": 2,
   "metadata": {},
   "outputs": [],
   "source": [
    "from download10x import get_rf_10k\n",
    "from download10x import get_rf_10q\n",
    "\n",
    "#Here is an example about retrieving risk factor part of 10-k, risk factor of 10-q could also be retrieved"
   ]
  },
  {
   "cell_type": "markdown",
   "metadata": {},
   "source": [
    "## You need to input the following parameters\n",
    "### 1.CIK of the ticker\n",
    "### 2.Ticker\n",
    "### 3. How many years of reports you would like to download ( n years)\n",
    "### 4. The number of reports you would like to get before this date\n",
    "\n"
   ]
  },
  {
   "cell_type": "markdown",
   "metadata": {},
   "source": [
    "### Here is the function used for getting CIK for every ticker\n"
   ]
  },
  {
   "cell_type": "code",
   "execution_count": 7,
   "metadata": {},
   "outputs": [],
   "source": [
    "import re\n",
    "import urllib.request\n",
    " \n",
    "def get_cik(ticker):\n",
    "    url = \"http://www.sec.gov/cgi-bin/browse-edgar?action=getcompany&CIK=%s\" % (ticker)\n",
    "    namecik = re.findall(b'name=\"CIK\" value=\"[0-9]*\"', urllib.request.urlopen(url).read())\n",
    "    cik_btype=re.findall( b'[0-9]*',  re.findall(b'\"[0-9]*\"',namecik[0])[0] )[1]\n",
    "    return str(cik_btype)[2:-1]\n",
    "\n",
    "\n",
    "#example:\n",
    "#get_cik(\"TSLA\")\n",
    "#'0001318605'\n",
    "#The output data type is str"
   ]
  },
  {
   "cell_type": "code",
   "execution_count": 8,
   "metadata": {},
   "outputs": [
    {
     "name": "stdout",
     "output_type": "stream",
     "text": [
      "writing AAPL_10k_20181105_RiskFactor.txt...\n",
      "writing AAPL_10k_20171103_RiskFactor.txt...\n",
      "writing AAPL_10k_20161026_RiskFactor.txt...\n",
      "writing AAPL_10k_20151028_RiskFactor.txt...\n",
      "writing AAPL_10k_20141027_RiskFactor.txt...\n"
     ]
    }
   ],
   "source": [
    "get_rf_10k('0000320193', 'AAPL', 5 ,'2019-06-01')\n",
    "#The files would be placed to the folder where you place this jupyter notebook\n",
    "\n"
   ]
  },
  {
   "cell_type": "markdown",
   "metadata": {},
   "source": [
    "# Please feel free to tell me if you have any question about this program. Both email addresses work\n",
    "### mfinemxy@hotmail.com\n",
    "### xmeng18@fordham.edu"
   ]
  },
  {
   "cell_type": "code",
   "execution_count": null,
   "metadata": {},
   "outputs": [],
   "source": []
  },
  {
   "cell_type": "code",
   "execution_count": null,
   "metadata": {},
   "outputs": [],
   "source": []
  },
  {
   "cell_type": "code",
   "execution_count": null,
   "metadata": {},
   "outputs": [],
   "source": []
  }
 ],
 "metadata": {
  "kernelspec": {
   "display_name": "Python 3",
   "language": "python",
   "name": "python3"
  },
  "language_info": {
   "codemirror_mode": {
    "name": "ipython",
    "version": 3
   },
   "file_extension": ".py",
   "mimetype": "text/x-python",
   "name": "python",
   "nbconvert_exporter": "python",
   "pygments_lexer": "ipython3",
   "version": "3.7.3"
  },
  "varInspector": {
   "cols": {
    "lenName": 16,
    "lenType": 16,
    "lenVar": 40
   },
   "kernels_config": {
    "python": {
     "delete_cmd_postfix": "",
     "delete_cmd_prefix": "del ",
     "library": "var_list.py",
     "varRefreshCmd": "print(var_dic_list())"
    },
    "r": {
     "delete_cmd_postfix": ") ",
     "delete_cmd_prefix": "rm(",
     "library": "var_list.r",
     "varRefreshCmd": "cat(var_dic_list()) "
    }
   },
   "types_to_exclude": [
    "module",
    "function",
    "builtin_function_or_method",
    "instance",
    "_Feature"
   ],
   "window_display": false
  }
 },
 "nbformat": 4,
 "nbformat_minor": 2
}
