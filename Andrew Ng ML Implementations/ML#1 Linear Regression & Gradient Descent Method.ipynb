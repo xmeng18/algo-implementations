{
 "cells": [
  {
   "cell_type": "code",
   "execution_count": 176,
   "metadata": {},
   "outputs": [],
   "source": [
    "import numpy as np\n",
    "import statistics\n",
    "from numpy.linalg import inv\n",
    "import matplotlib.pyplot as plt"
   ]
  },
  {
   "cell_type": "code",
   "execution_count": 163,
   "metadata": {},
   "outputs": [],
   "source": [
    "#Gradient Descent Method for single variable regression\n",
    "def beta0(beta0,beta1):\n",
    "    return lambda x,y: 2*(beta0+beta1*x-y)\n",
    "def beta1(beta0,beta1):\n",
    "    return lambda x,y: 2*x*(beta0+beta1*x-y)"
   ]
  },
  {
   "cell_type": "code",
   "execution_count": 164,
   "metadata": {},
   "outputs": [],
   "source": [
    "#single variable regression\n",
    "#X,Y denotes the input training data set\n",
    "#beta0_start,beta1_start are start points\n",
    "#num: iteration times\n",
    "#alpha: learning rate\n",
    "def gradient_descent_sig(X, Y, beta0_start, beta1_start,alpha,num):\n",
    "    temp0 = 2 * beta0_start\n",
    "    temp1 = 2 * beta1_start\n",
    "    for _ in range(num):\n",
    "        temp0 = temp0 - alpha *\\\n",
    "        statistics.mean(map(beta0(temp0, temp1), X, Y))\n",
    "        temp1 = temp1 - alpha *\\\n",
    "        statistics.mean(map(beta1(temp0, temp1), X, Y))\n",
    "    \n",
    "    return temp0,temp1\n",
    "        "
   ]
  },
  {
   "cell_type": "code",
   "execution_count": 165,
   "metadata": {},
   "outputs": [],
   "source": [
    "X = np.array([1,2,3,4,5,6,7,8,9])\n",
    "Y = np.array([12,14,17,16,19,23,26,29,35])"
   ]
  },
  {
   "cell_type": "code",
   "execution_count": 166,
   "metadata": {},
   "outputs": [
    {
     "data": {
      "text/plain": [
       "(7.722222222221089, 2.7000000000001823)"
      ]
     },
     "execution_count": 166,
     "metadata": {},
     "output_type": "execute_result"
    }
   ],
   "source": [
    "[b0,b1]=gradient_descent_sig(X,Y,1,2,0.001,100000)\n",
    "b0,b1"
   ]
  },
  {
   "cell_type": "code",
   "execution_count": 167,
   "metadata": {},
   "outputs": [],
   "source": [
    "#compare my model with sklearn's linear_model"
   ]
  },
  {
   "cell_type": "code",
   "execution_count": 168,
   "metadata": {},
   "outputs": [
    {
     "name": "stdout",
     "output_type": "stream",
     "text": [
      "[2.7]\n",
      "7.722222222222221\n"
     ]
    }
   ],
   "source": [
    "from sklearn import datasets, linear_model\n",
    "regr = linear_model.LinearRegression()\n",
    "regr.fit(X.reshape(-1,1), Y.ravel())\n",
    "print(regr.coef_)\n",
    "print(regr.intercept_)"
   ]
  },
  {
   "cell_type": "code",
   "execution_count": 169,
   "metadata": {},
   "outputs": [],
   "source": [
    "#Multi_variate Regression:\n"
   ]
  },
  {
   "cell_type": "code",
   "execution_count": 182,
   "metadata": {},
   "outputs": [],
   "source": [
    "#multivariable regression\n",
    "#X,Y denotes the input training data set\n",
    "#*args means the start points\n",
    "#num: iteration times\n",
    "#alpha: learning rate\n",
    "def gradient_descent(X, Y,alpha,num,*args):\n",
    "    dim = X.shape[0]\n",
    "    leng = X.shape[1]\n",
    "    beta = []\n",
    "    X_ = np.vstack((np.ones(leng),X))\n",
    "    for arg in args:\n",
    "        beta.append(arg)\n",
    "        \n",
    "    J_history = np.zeros(num)\n",
    "    \n",
    "    for i in range(num):\n",
    "        beta = beta - alpha*(-2*X_.dot(Y)+2*np.dot(X_.dot(X_.T),beta))\n",
    "        J_history[i] = (Y-X_.T.dot(beta)).dot((Y-X_.T.dot(beta)).T)\n",
    "    \n",
    "    \n",
    "    plt.plot(J_history)\n",
    "    plt.ylabel('Cost J')\n",
    "    plt.xlabel('Iterations');\n",
    "    return beta\n"
   ]
  },
  {
   "cell_type": "code",
   "execution_count": 192,
   "metadata": {},
   "outputs": [
    {
     "data": {
      "text/plain": [
       "array([ 2.98693938,  0.82837315, -0.06794491,  0.69088725])"
      ]
     },
     "execution_count": 192,
     "metadata": {},
     "output_type": "execute_result"
    },
    {
     "data": {
      "image/png": "[encoded data removed]",
      "text/plain": [
       "<Figure size 432x288 with 1 Axes>"
      ]
     },
     "metadata": {
      "needs_background": "light"
     },
     "output_type": "display_data"
    }
   ],
   "source": [
    "X2 = np.array([[1,2,3,4,5,6,7,8,9],[5,4,6,8,2,7,9,4,10],[12,15,14,17,18,23,26,28,36]])\n",
    "gradient_descent(X2, Y,0.0001,100000,1,1,1,1)\n",
    "#The plot show the relationship between iterations and cost function"
   ]
  },
  {
   "cell_type": "code",
   "execution_count": 172,
   "metadata": {},
   "outputs": [
    {
     "data": {
      "text/plain": [
       "array([ 2.98700587,  0.82838878, -0.06794521,  0.69088063])"
      ]
     },
     "execution_count": 172,
     "metadata": {},
     "output_type": "execute_result"
    }
   ],
   "source": [
    "#Compare my model with analytical solution\n",
    "X2 = np.vstack((np.ones(9),X2))\n",
    "inv(X2.dot(X2.T)).dot(X2).dot(Y)"
   ]
  },
  {
   "cell_type": "code",
   "execution_count": 173,
   "metadata": {},
   "outputs": [],
   "source": [
    "beta = np.array([1,2,3,4])"
   ]
  },
  {
   "cell_type": "code",
   "execution_count": 175,
   "metadata": {},
   "outputs": [
    {
     "data": {
      "text/plain": [
       "85623.0"
      ]
     },
     "execution_count": 175,
     "metadata": {},
     "output_type": "execute_result"
    }
   ],
   "source": []
  },
  {
   "cell_type": "code",
   "execution_count": null,
   "metadata": {},
   "outputs": [],
   "source": []
  }
 ],
 "metadata": {
  "kernelspec": {
   "display_name": "Python 3",
   "language": "python",
   "name": "python3"
  },
  "language_info": {
   "codemirror_mode": {
    "name": "ipython",
    "version": 3
   },
   "file_extension": ".py",
   "mimetype": "text/x-python",
   "name": "python",
   "nbconvert_exporter": "python",
   "pygments_lexer": "ipython3",
   "version": "3.7.2"
  },
  "varInspector": {
   "cols": {
    "lenName": 16,
    "lenType": 16,
    "lenVar": 40
   },
   "kernels_config": {
    "python": {
     "delete_cmd_postfix": "",
     "delete_cmd_prefix": "del ",
     "library": "var_list.py",
     "varRefreshCmd": "print(var_dic_list())"
    },
    "r": {
     "delete_cmd_postfix": ") ",
     "delete_cmd_prefix": "rm(",
     "library": "var_list.r",
     "varRefreshCmd": "cat(var_dic_list()) "
    }
   },
   "types_to_exclude": [
    "module",
    "function",
    "builtin_function_or_method",
    "instance",
    "_Feature"
   ],
   "window_display": false
  }
 },
 "nbformat": 4,
 "nbformat_minor": 2
}
