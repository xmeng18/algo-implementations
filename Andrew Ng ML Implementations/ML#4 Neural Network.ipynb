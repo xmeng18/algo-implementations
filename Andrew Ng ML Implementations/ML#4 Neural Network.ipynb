{
 "cells": [
  {
   "cell_type": "code",
   "execution_count": 62,
   "metadata": {},
   "outputs": [],
   "source": [
    "import numpy as np\n",
    "from scipy.io import loadmat\n",
    "from scipy.optimize import minimize\n",
    "import pandas  as pd\n",
    "import matplotlib.pyplot as plt"
   ]
  },
  {
   "cell_type": "code",
   "execution_count": 63,
   "metadata": {},
   "outputs": [],
   "source": [
    "#Sigmoid function\n",
    "def logit(theta,x):\n",
    "    return 1/(1+np.exp(-1*theta.dot(x)))"
   ]
  },
  {
   "cell_type": "code",
   "execution_count": 64,
   "metadata": {},
   "outputs": [],
   "source": [
    "def sigmoid_grad(theta,x):\n",
    "    return (logit(theta,x)*(1-logit(theta,x)))"
   ]
  },
  {
   "cell_type": "code",
   "execution_count": 65,
   "metadata": {},
   "outputs": [],
   "source": [
    "#load the data from dataset\n",
    "data = loadmat('/Users/mengxiangyu/Downloads/Machine Learning Andrew Ng/ex3data1.mat')\n",
    "weights = loadmat('/Users/mengxiangyu/Downloads/Machine Learning Andrew Ng/ex3weights.mat')"
   ]
  },
  {
   "cell_type": "code",
   "execution_count": 66,
   "metadata": {},
   "outputs": [],
   "source": [
    "X=data['X']\n",
    "Y= data['y'].ravel()\n",
    "#weights for layer 2, 25 nodes in total\n",
    "theta1=weights['Theta1']\n",
    "#weights for layer 3, 10 nodes in total\n",
    "theta2=weights['Theta2']\n",
    "X=np.hstack((np.ones(X.shape[0]).reshape(5000,1),X))"
   ]
  },
  {
   "cell_type": "code",
   "execution_count": 67,
   "metadata": {},
   "outputs": [],
   "source": [
    "l = 26\n",
    "m = 400\n",
    "n = 5000\n",
    "k = 10\n"
   ]
  },
  {
   "cell_type": "code",
   "execution_count": 68,
   "metadata": {},
   "outputs": [],
   "source": [
    "#Neural Network with Regularization\n",
    "#Initial parameters\n",
    "theta1_0 = np.random.uniform(-0.12,0.12,theta1.shape)\n",
    "theta2_0 = np.random.uniform(-0.12,0.12,theta2.shape)"
   ]
  },
  {
   "cell_type": "code",
   "execution_count": 69,
   "metadata": {},
   "outputs": [],
   "source": [
    "ini_paras = np.concatenate((theta1_0.flatten(), theta2_0.flatten()))\n",
    "given_paras = np.concatenate((theta1.flatten(), theta2.flatten()))"
   ]
  },
  {
   "cell_type": "code",
   "execution_count": null,
   "metadata": {},
   "outputs": [],
   "source": []
  },
  {
   "cell_type": "code",
   "execution_count": null,
   "metadata": {},
   "outputs": [],
   "source": []
  },
  {
   "cell_type": "code",
   "execution_count": 70,
   "metadata": {},
   "outputs": [],
   "source": [
    "cost_hist = []\n",
    "#Cost function for optimization, it contains costfunction and gradient function\n",
    "def CostFunction(paras,X, Y, m, n, l, k, lam):\n",
    "    theta_1h = paras[:(l - 1) * (m + 1)].reshape(l - 1, m + 1)\n",
    "    theta_2h = paras[(l - 1) * (m + 1):].reshape(k, l)\n",
    "    Y_ = np.array(pd.get_dummies(Y.ravel()))\n",
    "\n",
    "    z2 = theta_1h.dot(X.T)\n",
    "    a2_p = np.vstack((np.ones(n), logit(theta_1h, X.T)))\n",
    "\n",
    "    a3 = logit(theta_2h, a2_p)\n",
    "    #Cost Function\n",
    "    cost = -1/n*(np.sum(np.log(a3.T)*Y_+np.log(1-a3).T*(1-Y_)))+\\\n",
    "    (lam/(2*n))*((np.sum(np.square(theta_1h[:,1:])))+np.sum(np.square(theta_2h[:,1:])))\n",
    "\n",
    "    #Gradient Function Back Propagation\n",
    "    d3 = a3.T - Y_\n",
    "    d2 = theta_2h[:, 1:].T.dot(d3.T) * logit(theta_1h, X.T)\n",
    "\n",
    "    delta1 = d2.dot(X)\n",
    "    delta2 = d3.T.dot(a2_p.T)\n",
    "\n",
    "    theta1_ = np.c_[np.ones((theta_1h.shape[0], 1)), theta_1h[:, 1:]]\n",
    "    theta2_ = np.c_[np.ones((theta_2h.shape[0], 1)), theta_2h[:, 1:]]\n",
    "    theta1_grad = delta1 / n + (theta1_ * lam) / n\n",
    "    theta2_grad = delta2 / n + (theta2_ * lam) / n\n",
    "    \n",
    "    #theta2_grad = 1 / n * d3.T.dot(a2_p.T) \\\n",
    "       # + lam / n * np.hstack((np.zeros(k).reshape(-1,1), theta_2h[:, 1:])) # this is the theta_2 grad reg term\n",
    "    \n",
    "     #Calculate the gradient for parameters in the second layer.\n",
    "    #theta_delta = theta2_0[:, 1:].T.dot(a3 - Y_.T)\n",
    "    \n",
    "    #theta1_grad  = 1 / n * np.array([[np.sum(theta_delta[p] * logit(theta_1h, X.T)[p] * X.T[q]) \n",
    "     #    for q in range(m+1)] for p in range(l-1)]) \\\n",
    "     #   + lam / n * np.hstack((np.zeros(l-1).reshape(-1,1), theta_1h[:, 1:])) # this is the theta_1 grad reg term\n",
    "    \n",
    "\n",
    "    gradient = np.concatenate((theta1_grad.flatten(), theta2_grad.flatten()))\n",
    "    cost_hist.append(cost)\n",
    "    return cost, gradient"
   ]
  },
  {
   "cell_type": "code",
   "execution_count": 91,
   "metadata": {},
   "outputs": [],
   "source": [
    "lam = 1.5"
   ]
  },
  {
   "cell_type": "code",
   "execution_count": 92,
   "metadata": {},
   "outputs": [],
   "source": [
    "res = minimize(CostFunction, ini_paras, \n",
    "               method='L-BFGS-B', args=(X, Y, m, n, l, k, lam), jac=True, options={'maxiter': 100})"
   ]
  },
  {
   "cell_type": "code",
   "execution_count": 93,
   "metadata": {},
   "outputs": [],
   "source": [
    "def accuracy(paras,X,Y):\n",
    "    theta_1tr = paras[:(l - 1) * (m + 1)].reshape(l - 1, m + 1)\n",
    "    theta_2tr = paras[(l - 1) * (m + 1):].reshape(k, l)\n",
    "    \n",
    "    z2 = theta_1tr.dot(X.T)\n",
    "    a2_p = np.vstack((np.ones(n), logit(theta_1tr, X.T)))\n",
    "    a3 = logit(theta_2tr, a2_p)\n",
    "    \n",
    "    return np.sum((a3.argmax(axis=0) + 1) == Y) / n\n",
    "    "
   ]
  },
  {
   "cell_type": "code",
   "execution_count": 94,
   "metadata": {},
   "outputs": [
    {
     "data": {
      "text/plain": [
       "0.7018"
      ]
     },
     "execution_count": 94,
     "metadata": {},
     "output_type": "execute_result"
    }
   ],
   "source": [
    "accuracy(res['x'],X,Y)"
   ]
  },
  {
   "cell_type": "code",
   "execution_count": 95,
   "metadata": {},
   "outputs": [
    {
     "data": {
      "text/plain": [
       "0.9752"
      ]
     },
     "execution_count": 95,
     "metadata": {},
     "output_type": "execute_result"
    }
   ],
   "source": [
    "accuracy(given_paras,X,Y)"
   ]
  },
  {
   "cell_type": "code",
   "execution_count": null,
   "metadata": {},
   "outputs": [],
   "source": []
  },
  {
   "cell_type": "code",
   "execution_count": null,
   "metadata": {},
   "outputs": [],
   "source": []
  },
  {
   "cell_type": "code",
   "execution_count": null,
   "metadata": {},
   "outputs": [],
   "source": []
  }
 ],
 "metadata": {
  "kernelspec": {
   "display_name": "Python 3",
   "language": "python",
   "name": "python3"
  },
  "language_info": {
   "codemirror_mode": {
    "name": "ipython",
    "version": 3
   },
   "file_extension": ".py",
   "mimetype": "text/x-python",
   "name": "python",
   "nbconvert_exporter": "python",
   "pygments_lexer": "ipython3",
   "version": "3.7.2"
  },
  "varInspector": {
   "cols": {
    "lenName": 16,
    "lenType": 16,
    "lenVar": 40
   },
   "kernels_config": {
    "python": {
     "delete_cmd_postfix": "",
     "delete_cmd_prefix": "del ",
     "library": "var_list.py",
     "varRefreshCmd": "print(var_dic_list())"
    },
    "r": {
     "delete_cmd_postfix": ") ",
     "delete_cmd_prefix": "rm(",
     "library": "var_list.r",
     "varRefreshCmd": "cat(var_dic_list()) "
    }
   },
   "types_to_exclude": [
    "module",
    "function",
    "builtin_function_or_method",
    "instance",
    "_Feature"
   ],
   "window_display": false
  }
 },
 "nbformat": 4,
 "nbformat_minor": 2
}
