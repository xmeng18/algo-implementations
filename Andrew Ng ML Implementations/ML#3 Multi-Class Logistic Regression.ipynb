{
 "cells": [
  {
   "cell_type": "code",
   "execution_count": 3,
   "metadata": {},
   "outputs": [],
   "source": [
    "import numpy as np\n",
    "from scipy.io import loadmat"
   ]
  },
  {
   "cell_type": "code",
   "execution_count": 2,
   "metadata": {},
   "outputs": [],
   "source": [
    "#Sigmoid function\n",
    "def logit(theta,x):\n",
    "    return 1/(1+np.exp(-1*theta.dot(x)))"
   ]
  },
  {
   "cell_type": "code",
   "execution_count": 145,
   "metadata": {},
   "outputs": [],
   "source": [
    "#load the data from dataset\n",
    "data = loadmat('/Users/mengxiangyu/Downloads/Machine Learning Andrew Ng/ex3data1.mat')\n",
    "weights = loadmat('/Users/mengxiangyu/Downloads/Machine Learning Andrew Ng/ex3weights.mat')"
   ]
  },
  {
   "cell_type": "code",
   "execution_count": 146,
   "metadata": {},
   "outputs": [],
   "source": [
    "X=data['X']"
   ]
  },
  {
   "cell_type": "code",
   "execution_count": 147,
   "metadata": {},
   "outputs": [],
   "source": [
    "Y=data['y']"
   ]
  },
  {
   "cell_type": "code",
   "execution_count": 71,
   "metadata": {},
   "outputs": [],
   "source": [
    "#weights for layer 2, 25 nodes in total\n",
    "theta1=weights['Theta1']"
   ]
  },
  {
   "cell_type": "code",
   "execution_count": 72,
   "metadata": {},
   "outputs": [],
   "source": [
    "#weights for layer 3, 10 nodes in total\n",
    "theta2=weights['Theta2']"
   ]
  },
  {
   "cell_type": "code",
   "execution_count": 148,
   "metadata": {},
   "outputs": [],
   "source": [
    "#For X, we need to add a column of ones to be intercepts\n",
    "X=np.hstack((np.ones(X.shape[0]).reshape(5000,1),X))"
   ]
  },
  {
   "cell_type": "code",
   "execution_count": 168,
   "metadata": {},
   "outputs": [],
   "source": [
    "#Because the logistic model with polynomial features are expensive to train, I use linear\n",
    "#Logistic regression here\n",
    "def gradient_descent(X, Y,alpha,num,lam,beta,target):\n",
    "    X = X.T\n",
    "    dim = X.shape[0]\n",
    "    leng = X.shape[1]\n",
    "    beta = np.array(beta)\n",
    "    Y = (Y == target)*1\n",
    "    Y = Y.reshape(1,leng)\n",
    "    \n",
    "    for i in range(num):\n",
    "        beta = beta - alpha*((logit(beta,X)-Y).dot(X.T)/leng+lam/leng*beta)\n",
    "    return beta"
   ]
  },
  {
   "cell_type": "code",
   "execution_count": 169,
   "metadata": {},
   "outputs": [],
   "source": [
    "#beta_mat means beta matrix, it stores the betas for each sub logistic regression model\n",
    "beta_mat = []\n",
    "for i in range(10):\n",
    "    target = i\n",
    "    w1 = np.zeros((1,X.shape[1]))\n",
    "    beta_mat.append(gradient_descent(X,Y,0.01,10000,0.1,w1,target)) "
   ]
  },
  {
   "cell_type": "code",
   "execution_count": 170,
   "metadata": {},
   "outputs": [],
   "source": [
    "#Squeeze the dimension of beta matrix to 10 * 401\n",
    "beta_mat=np.squeeze(beta_mat)"
   ]
  },
  {
   "cell_type": "code",
   "execution_count": 190,
   "metadata": {},
   "outputs": [],
   "source": [
    "#In sample forecast of the model\n",
    "Y_test=np.argmax(logit(beta_mat,X.T).T,axis= 1)+1"
   ]
  },
  {
   "cell_type": "code",
   "execution_count": 191,
   "metadata": {},
   "outputs": [],
   "source": [
    "#Function used for calculating in sample forecast accuarcy\n",
    "def accuarcy(YY,YY_test):\n",
    "    ac = 0;\n",
    "    for i in range(len(YY)):\n",
    "        if YY[i] == YY_test[i]:\n",
    "            ac = ac +1\n",
    "        else:\n",
    "            continue\n",
    "    ac = ac/len(YY)\n",
    "    return ac"
   ]
  },
  {
   "cell_type": "code",
   "execution_count": 192,
   "metadata": {},
   "outputs": [
    {
     "data": {
      "text/plain": [
       "0.8058"
      ]
     },
     "execution_count": 192,
     "metadata": {},
     "output_type": "execute_result"
    }
   ],
   "source": [
    "#The accuarcy here is about 81%, which is not very high\n",
    "#It could be improved if I use the optimization function in scipy to find the beta matrix\n",
    "accuarcy(Y,np.argmax(logit(beta_mat,X.T).T,axis= 1))"
   ]
  },
  {
   "cell_type": "code",
   "execution_count": null,
   "metadata": {},
   "outputs": [],
   "source": []
  },
  {
   "cell_type": "code",
   "execution_count": null,
   "metadata": {},
   "outputs": [],
   "source": []
  }
 ],
 "metadata": {
  "kernelspec": {
   "display_name": "Python 3",
   "language": "python",
   "name": "python3"
  },
  "language_info": {
   "codemirror_mode": {
    "name": "ipython",
    "version": 3
   },
   "file_extension": ".py",
   "mimetype": "text/x-python",
   "name": "python",
   "nbconvert_exporter": "python",
   "pygments_lexer": "ipython3",
   "version": "3.7.2"
  },
  "varInspector": {
   "cols": {
    "lenName": 16,
    "lenType": 16,
    "lenVar": 40
   },
   "kernels_config": {
    "python": {
     "delete_cmd_postfix": "",
     "delete_cmd_prefix": "del ",
     "library": "var_list.py",
     "varRefreshCmd": "print(var_dic_list())"
    },
    "r": {
     "delete_cmd_postfix": ") ",
     "delete_cmd_prefix": "rm(",
     "library": "var_list.r",
     "varRefreshCmd": "cat(var_dic_list()) "
    }
   },
   "types_to_exclude": [
    "module",
    "function",
    "builtin_function_or_method",
    "instance",
    "_Feature"
   ],
   "window_display": false
  }
 },
 "nbformat": 4,
 "nbformat_minor": 2
}
